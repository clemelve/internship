{
 "cells": [
  {
   "cell_type": "code",
   "execution_count": 1,
   "id": "4d7b1a2e",
   "metadata": {},
   "outputs": [],
   "source": [
    "import pandas as pd\n",
    "import matplotlib.pyplot as plt\n",
    "import os\n",
    "import torch\n",
    "from torch.utils.data import DataLoader"
   ]
  },
  {
   "cell_type": "code",
   "execution_count": null,
   "id": "a074ddeb",
   "metadata": {},
   "outputs": [],
   "source": [
    "directory_acc = 'data/starman_images2D_noacc'\n",
    "abnormal_subjects = 'data/extreme_values_images'\n",
    "\n",
    "df_acc = pd.read_csv(os.path.join(directory_acc, 'starmen_noacc.csv'))\n",
    "df_abnormal_subjects = pd.read_csv(os.path.join(abnormal_subjects, 'extreme_values_acc.csv'))"
   ]
  },
  {
   "cell_type": "code",
   "execution_count": null,
   "id": "0aaa6368",
   "metadata": {},
   "outputs": [],
   "source": [
    "device = torch.device(\"cuda\" if torch.cuda.is_available() else \"cpu\")"
   ]
  },
  {
   "cell_type": "code",
   "execution_count": null,
   "id": "694a333f",
   "metadata": {},
   "outputs": [],
   "source": [
    "from utils import id_based_train_test_split\n",
    "\n",
    "train_df, val_df, test_df = id_based_train_test_split(df_acc, val_size=0.1, test_size=0.1, random_state=42)"
   ]
  },
  {
   "cell_type": "code",
   "execution_count": null,
   "id": "004d9d07",
   "metadata": {},
   "outputs": [],
   "source": [
    "from datasets2D import Dataset2D, DatasetLongitudinal2D, ID_Dataset2D\n",
    "\n",
    "train_dataset = DatasetLongitudinal2D(train_df)\n",
    "train_loader = DataLoader(train_dataset, batch_size=32, shuffle=True)\n",
    "val_dataset = DatasetLongitudinal2D(val_df)\n",
    "val_loader = DataLoader(val_dataset, batch_size=32, shuffle=False)"
   ]
  },
  {
   "cell_type": "code",
   "execution_count": null,
   "id": "0d801dcd",
   "metadata": {},
   "outputs": [],
   "source": [
    "# TRAIN REGULAR VAE\n",
    "\n",
    "from VAE2D import VAE2D\n",
    "from training_bVAE2D import train_bVAE\n",
    "\n",
    "latent_representation_size = 4\n",
    "model = VAE2D(latent_representation_size=latent_representation_size)\n",
    "model.to(device)\n",
    "\n",
    "#train_bVAE(model, train_loader, val_loader, beta=4, nb_epochs=600, device=device, saving_path='models/vae2D_mse_b4.pth')\n",
    "model.load_state_dict(torch.load('models/vae2D_mse_b4.pth'))\n",
    "model.eval()"
   ]
  },
  {
   "cell_type": "code",
   "execution_count": null,
   "id": "37b935f7",
   "metadata": {},
   "outputs": [],
   "source": [
    "# TEST REGULAR VAE FOR RANDOM INDEX\n",
    "\n",
    "test_dataset = Dataset2D(test_df)\n",
    "test_image = test_dataset[3].to(device)\n",
    "_, _, reconstructed_image, _ = model(test_image.unsqueeze(0))\n",
    "\n",
    "plt.subplot(1, 2, 1)\n",
    "plt.title('Original Image')\n",
    "plt.imshow(test_image.squeeze(0).cpu().numpy())\n",
    "\n",
    "plt.subplot(1, 2, 2)\n",
    "plt.title('Reconstructed Image')\n",
    "plt.imshow(reconstructed_image.squeeze(0).squeeze(0).cpu().detach().numpy())\n",
    "plt.show()"
   ]
  },
  {
   "cell_type": "code",
   "execution_count": null,
   "id": "cc057a43",
   "metadata": {},
   "outputs": [],
   "source": [
    "# TRAIN LONGITUDINAL VAE\n",
    "\n",
    "from training_longitudinal_VAE2D import train\n",
    "from leaspy import Leaspy, AlgorithmSettings, Data\n",
    "\n",
    "\n",
    "model_longitudinal = VAE2D(latent_representation_size=4)\n",
    "model_longitudinal.load_state_dict(torch.load('models/vae2D_mse_b4.pth'))\n",
    "model_longitudinal.to(device)\n",
    "model_longitudinal.freeze_conv()\n",
    "\n",
    "estimator = Leaspy(\"linear\", noise_model=\"gaussian_diagonal\", source_dimension=latent_representation_size - 1)\n",
    "algo_settings = AlgorithmSettings('mcmc_saem', n_iter=100, seed=45, noise_model=\"gaussian_diagonal\")\n",
    "\n",
    "#train(model_longitudinal, train_loader, val_loader, estimator, algo_settings, nb_epochs=50, beta=4, gamma = 0.4, batch_size=32, save_path = \"models/longitudinal_vae2D.pth\", device=device)"
   ]
  },
  {
   "cell_type": "code",
   "execution_count": null,
   "id": "1a49bb36",
   "metadata": {},
   "outputs": [],
   "source": [
    "# FIT DCM MODEL\n",
    "\n",
    "model_longitudinal.load_state_dict(torch.load(\"models/longitudinal_vae2D.pth\"))\n",
    "model_longitudinal.eval()\n",
    "\n",
    "estimator = Leaspy(\"linear\", noise_model=\"gaussian_diagonal\", source_dimension=latent_representation_size - 1)\n",
    "algo_settings = AlgorithmSettings('mcmc_saem', n_iter=100, seed=45, noise_model=\"gaussian_diagonal\")\n",
    "\n",
    "from training_longitudinal_VAE2D import fit_longitudinal_estimator_on_nn\n",
    "from utils import build_compatible_leaspy_dataframe\n",
    "\n",
    "encodings_df = build_compatible_leaspy_dataframe(train_loader, model_longitudinal, device)\n",
    "longitudinal_estimator, fitted_encodings = fit_longitudinal_estimator_on_nn(encodings_df, estimator, algo_settings)\n",
    "longitudinal_estimator.save('models/leaspy_model')"
   ]
  },
  {
   "cell_type": "code",
   "execution_count": null,
   "id": "e614926f",
   "metadata": {},
   "outputs": [],
   "source": [
    "# EVALUATE ACCURACY ON EXTREME VALUES\n",
    "\n",
    "\n",
    "extreme_dataset = DatasetLongitudinal2D(df_abnormal_subjects)\n",
    "extreme_dataloader = DataLoader(extreme_dataset, batch_size=32, shuffle=False)\n",
    "ids_dataset_extreme = ID_Dataset2D(df_abnormal_subjects)\n",
    "\n",
    "\n",
    "from utils import evaluate_model_leaspy_on_extreme\n",
    "\n",
    "acc, _ = evaluate_model_leaspy_on_extreme(model_longitudinal, df_abnormal_subjects, extreme_dataloader, ids_dataset_extreme, 'models/leaspy_model', device)\n",
    "print(f\"Accuracy on extreme values: {acc:.2f}%\")"
   ]
  }
 ],
 "metadata": {
  "kernelspec": {
   "display_name": "goodvenv",
   "language": "python",
   "name": "python3"
  },
  "language_info": {
   "codemirror_mode": {
    "name": "ipython",
    "version": 3
   },
   "file_extension": ".py",
   "mimetype": "text/x-python",
   "name": "python",
   "nbconvert_exporter": "python",
   "pygments_lexer": "ipython3",
   "version": "3.9.18"
  }
 },
 "nbformat": 4,
 "nbformat_minor": 5
}
